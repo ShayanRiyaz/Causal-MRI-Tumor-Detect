{
 "cells": [
  {
   "cell_type": "code",
   "execution_count": 1,
   "metadata": {},
   "outputs": [
    {
     "name": "stdout",
     "output_type": "stream",
     "text": [
      "True\n",
      "mps\n"
     ]
    }
   ],
   "source": [
    "import numpy as np\n",
    "# from tqdm import tdqm, trange\n",
    "\n",
    "import torch\n",
    "import torch.nn as nn\n",
    "from torch.optim import Adam\n",
    "from torch.nn import CrossEntropyLoss\n",
    "from torch.utils.data import DataLoader\n",
    "\n",
    "from torchvision.transforms import ToTensor\n",
    "from torchvision.datasets.mnist import MNIST\n",
    "\n",
    "import os\n",
    "from PIL import Image\n",
    "\n",
    "from tqdm import tqdm, trange\n",
    "import torch\n",
    "\n",
    "import torchvision.transforms as transforms\n",
    "\n",
    "\n",
    "from MyViT.ViT import *\n",
    "\n",
    "\n",
    "\n",
    "\n",
    "np.random.seed(0)\n",
    "torch.manual_seed(0)\n",
    "print(torch.backends.mps.is_available())\n",
    "mps_device = torch.device(\"mps\")\n",
    "print(mps_device)"
   ]
  },
  {
   "cell_type": "code",
   "execution_count": 2,
   "metadata": {},
   "outputs": [
    {
     "name": "stdout",
     "output_type": "stream",
     "text": [
      "Number of Training Tumor Files:  1339\n",
      "Number of Training No Tumor Files:  1595\n"
     ]
    }
   ],
   "source": [
    "import PIL\n",
    "from PIL import Image\n",
    "import numpy as np\n",
    "import os\n",
    "import random \n",
    "import pandas as pd\n",
    "# open method used to open different extension image file\n",
    "TRAIN_DATA_FOLDER = \"data/train\"\n",
    "train_tumor_filenames = os.listdir(f'{TRAIN_DATA_FOLDER}/tumor/')\n",
    "num_train_tumor_files = len(train_tumor_filenames)\n",
    "print(\"Number of Training Tumor Files: \", num_train_tumor_files)\n",
    "\n",
    "train_notumor_filenames = os.listdir(f'{TRAIN_DATA_FOLDER}/notumor/')\n",
    "num_train_notumor_files = len(train_notumor_filenames)\n",
    "print(\"Number of Training No Tumor Files: \", num_train_notumor_files)"
   ]
  },
  {
   "attachments": {
    "image.png": {
     "image/png": "[encoded data removed]"
    }
   },
   "cell_type": "markdown",
   "metadata": {},
   "source": [
    "## Transformer Model Architecture\n",
    "![Transformer Model](https://miro.medium.com/v2/resize:fit:1400/format:webp/1*tA7xE2dQA_dfzA0Bub5TVw.png)\n",
    "\n",
    "## Resizing Image\n",
    "\n",
    "### Formula [e.g (N,1,28,28)] ![image.png](attachment:image.png)\n",
    "![Reshaping Image](https://miro.medium.com/v2/resize:fit:822/format:webp/1*CFbOxEuvo-Pgq7ETIrt0Eg.png)\n",
    "\n",
    "\n",
    "### Positional Embedding\n",
    "![Positional Embedding Formula](https://miro.medium.com/v2/resize:fit:1400/format:webp/1*lpRYHE0XjVkxRVKFrWkzuw.png)"
   ]
  },
  {
   "cell_type": "code",
   "execution_count": 7,
   "metadata": {},
   "outputs": [],
   "source": [
    "def main():\n",
    "\n",
    "    train_dataset = MRIDataset('data/train/', transform=ToTensor(),image_shape = 28)\n",
    "    train_loader  = DataLoader(train_dataset, shuffle=True, batch_size=64)\n",
    "\n",
    "    test_dataset = MRIDataset('data/test/', transform=ToTensor(),image_shape = 28)\n",
    "    test_loader  = DataLoader(test_dataset, shuffle=False, batch_size=64)\n",
    "    # transform = ToTensor()\n",
    "    # train_set = MNIST(root='./../datasets', train=True, download=True, transform=transform)\n",
    "    # test_set = MNIST(root='./../datasets', train=False, download=True, transform=transform)\n",
    "\n",
    "    # train_loader = DataLoader(train_set, shuffle=True, batch_size=128)\n",
    "    # test_loader = DataLoader(test_set, shuffle=False, batch_size=128)\n",
    "\n",
    "    IMAGE_SIZE = (1,28,28)\n",
    "    NUM_PATCHES = 7\n",
    "\n",
    "    device = torch.device(\"cuda\" if torch.cuda.is_available() else \"mps\")\n",
    "    # print(\"Using device: \", device, f\"({torch.cuda.get_device_name(device)})\" if torch.cuda.is_available else \"\")\n",
    "    model = MyViT(IMAGE_SIZE, n_patches=NUM_PATCHES, n_blocks=2, hidden_d=8, n_heads=2, out_d=10).to(device)\n",
    "\n",
    "    N_EPOCHS = 5\n",
    "    LR = 0.005\n",
    "\n",
    "    # Training Loop\n",
    "    optimizer = Adam(model.parameters(),lr = LR)\n",
    "    criterion = CrossEntropyLoss()\n",
    "    for epoch in trange(N_EPOCHS,desc=\"Training\"):\n",
    "        train_loss = 0.0\n",
    "        for batch in tqdm(train_loader,desc=f\"Epoch{epoch+1} in training\", leave=False):\n",
    "            x,y = batch\n",
    "            # print(y.shape)\n",
    "            x,y = x.to(device),y.to(device)\n",
    "            y_hat = model(x)\n",
    "            loss = criterion(y_hat,y)\n",
    "            train_loss += loss.detach().cpu().item()/len(train_loader)\n",
    "\n",
    "            optimizer.zero_grad()\n",
    "            loss.backward()\n",
    "            optimizer.step()\n",
    "        print(f\"Epoch {epoch+1}/{N_EPOCHS} loss: {train_loss:.2f}\")\n",
    "\n",
    "    with torch.no_grad():\n",
    "        correct,total = 0,0\n",
    "        test_loss = 0.0\n",
    "        for batch in tqdm(test_loader,desc=\"Testing\"):\n",
    "            x,y = batch\n",
    "            x,y = x.to(device),y.to(device)\n",
    "            y_hat = model(x)\n",
    "            loss = criterion(y_hat,y)\n",
    "            test_loss += loss.detach().cpu().item()/len(test_loader)\n",
    "\n",
    "            correct += torch.sum(torch.argmax(y_hat,dim=1) == y).detach().cpu()\n",
    "            total += len(x)\n",
    "        print(f\"Test loss: {test_loss:.2f}\")\n",
    "        print(f\"Test accuracy: {correct / total * 100:.2f}%\")\n",
    "\n",
    "\n"
   ]
  },
  {
   "cell_type": "markdown",
   "metadata": {},
   "source": [
    "# Multi-Self Attention Class"
   ]
  },
  {
   "cell_type": "code",
   "execution_count": 4,
   "metadata": {},
   "outputs": [
    {
     "name": "stderr",
     "output_type": "stream",
     "text": [
      "Training:  33%|███▎      | 1/3 [00:38<01:16, 38.32s/it]"
     ]
    },
    {
     "name": "stdout",
     "output_type": "stream",
     "text": [
      "Epoch 1/3 loss: 2.02\n"
     ]
    },
    {
     "name": "stderr",
     "output_type": "stream",
     "text": [
      "Training:  67%|██████▋   | 2/3 [01:19<00:40, 40.00s/it]"
     ]
    },
    {
     "name": "stdout",
     "output_type": "stream",
     "text": [
      "Epoch 2/3 loss: 1.92\n"
     ]
    },
    {
     "name": "stderr",
     "output_type": "stream",
     "text": [
      "Training: 100%|██████████| 3/3 [01:59<00:00, 39.97s/it]\n"
     ]
    },
    {
     "name": "stdout",
     "output_type": "stream",
     "text": [
      "Epoch 3/3 loss: 1.91\n"
     ]
    },
    {
     "name": "stderr",
     "output_type": "stream",
     "text": [
      "Testing: 100%|██████████| 6/6 [00:08<00:00,  1.37s/it]"
     ]
    },
    {
     "name": "stdout",
     "output_type": "stream",
     "text": [
      "Test loss: 1.86\n",
      "Test accuracy: 56.96%\n"
     ]
    },
    {
     "name": "stderr",
     "output_type": "stream",
     "text": [
      "\n"
     ]
    }
   ],
   "source": [
    "from MyViT.ViT import * \n",
    "from MyViT.utils import MRIDataset,get_positional_embeddings,patchify\n",
    "\n",
    "if __name__ == '__main__':\n",
    "    main()"
   ]
  },
  {
   "cell_type": "code",
   "execution_count": null,
   "metadata": {},
   "outputs": [],
   "source": []
  }
 ],
 "metadata": {
  "kernelspec": {
   "display_name": "TumorDetectionMRI",
   "language": "python",
   "name": "python3"
  },
  "language_info": {
   "codemirror_mode": {
    "name": "ipython",
    "version": 3
   },
   "file_extension": ".py",
   "mimetype": "text/x-python",
   "name": "python",
   "nbconvert_exporter": "python",
   "pygments_lexer": "ipython3",
   "version": "3.12.0"
  }
 },
 "nbformat": 4,
 "nbformat_minor": 2
}
